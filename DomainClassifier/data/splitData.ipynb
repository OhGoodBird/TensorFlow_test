{
 "cells": [
  {
   "cell_type": "code",
   "execution_count": 1,
   "metadata": {},
   "outputs": [],
   "source": [
    "import pandas as pd"
   ]
  },
  {
   "cell_type": "code",
   "execution_count": 2,
   "metadata": {},
   "outputs": [
    {
     "name": "stdout",
     "output_type": "stream",
     "text": [
      "total_cnt = 2840\n",
      "train_cnt = 2272\n",
      "valid_cnt = 284\n",
      "test_cnt = 284\n"
     ]
    }
   ],
   "source": [
    "test_portion = 0.1\n",
    "valid_portion = 0.1\n",
    "train_portion = (1.0 - test_portion - valid_portion)\n",
    "\n",
    "dataframe = pd.read_csv('TestingDataSampledByIntentTemporary.csv')\n",
    "dataframe = dataframe.sample(frac=1).reset_index(drop=True)\n",
    "\n",
    "total_cnt = len(dataframe)\n",
    "train_cnt = int(total_cnt * train_portion)\n",
    "valid_cnt = int(total_cnt * valid_portion)\n",
    "test_cnt = int(total_cnt - train_cnt - valid_cnt)\n",
    "print('total_cnt = %d' %(total_cnt))\n",
    "print('train_cnt = %d' %(train_cnt))\n",
    "print('valid_cnt = %d' %(valid_cnt))\n",
    "print('test_cnt = %d' %(test_cnt))"
   ]
  },
  {
   "cell_type": "code",
   "execution_count": 3,
   "metadata": {},
   "outputs": [],
   "source": [
    "train_df = dataframe[0:train_cnt].reset_index(drop=True)\n",
    "valid_df = dataframe[train_cnt:train_cnt+valid_cnt].reset_index(drop=True)\n",
    "test_df = dataframe[-test_cnt:].reset_index(drop=True)"
   ]
  },
  {
   "cell_type": "code",
   "execution_count": 4,
   "metadata": {},
   "outputs": [],
   "source": [
    "with open('train.txt', 'w', encoding='utf8') as fp:\n",
    "    fp.write('domain_intent\\tsentence\\n')\n",
    "    for x in range(len(train_df)):\n",
    "        fp.write('{}\\t{}\\n'.format(train_df['domain_intent'][x], train_df['sentence'][x]))\n",
    "\n",
    "with open('valid.txt', 'w', encoding='utf8') as fp:\n",
    "    fp.write('domain_intent\\tsentence\\n')\n",
    "    for x in range(len(valid_df)):\n",
    "        fp.write('{}\\t{}\\n'.format(valid_df['domain_intent'][x], valid_df['sentence'][x]))\n",
    "        \n",
    "with open('test.txt', 'w', encoding='utf8') as fp:\n",
    "    fp.write('domain_intent\\tsentence\\n')\n",
    "    for x in range(len(test_df)):\n",
    "        fp.write('{}\\t{}\\n'.format(test_df['domain_intent'][x], test_df['sentence'][x]))"
   ]
  },
  {
   "cell_type": "code",
   "execution_count": null,
   "metadata": {},
   "outputs": [],
   "source": []
  },
  {
   "cell_type": "code",
   "execution_count": null,
   "metadata": {},
   "outputs": [],
   "source": []
  }
 ],
 "metadata": {
  "kernelspec": {
   "display_name": "Python 3",
   "language": "python",
   "name": "python3"
  },
  "language_info": {
   "codemirror_mode": {
    "name": "ipython",
    "version": 3
   },
   "file_extension": ".py",
   "mimetype": "text/x-python",
   "name": "python",
   "nbconvert_exporter": "python",
   "pygments_lexer": "ipython3",
   "version": "3.5.2"
  }
 },
 "nbformat": 4,
 "nbformat_minor": 2
}

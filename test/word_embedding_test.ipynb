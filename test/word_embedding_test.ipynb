{
 "cells": [
  {
   "cell_type": "code",
   "execution_count": 1,
   "metadata": {},
   "outputs": [],
   "source": [
    "#!/usr/bin python3\n",
    "\n",
    "import numpy as np\n",
    "import tensorflow as tf\n",
    "from gensim.models import Word2Vec"
   ]
  },
  {
   "cell_type": "code",
   "execution_count": 2,
   "metadata": {},
   "outputs": [
    {
     "name": "stdout",
     "output_type": "stream",
     "text": [
      "number of vocab = 179656\n",
      "embedding_dim = 200\n"
     ]
    }
   ],
   "source": [
    "# load word2vec model\n",
    "w2v_model_path = 'word2vec_model/word2vec.model'\n",
    "\n",
    "w2v_mdl = Word2Vec.load(w2v_model_path)\n",
    "num_word = len(w2v_mdl.wv.vocab)\n",
    "embedding_dim = w2v_mdl.layer1_size\n",
    "print('number of vocab = %d' %(num_word))\n",
    "print('embedding_dim = %d' %(embedding_dim))"
   ]
  },
  {
   "cell_type": "code",
   "execution_count": 3,
   "metadata": {},
   "outputs": [],
   "source": [
    "# get embedding_matrix, word2id and id2word\n",
    "word2id = {}\n",
    "id2word = {}\n",
    "embedding_matrix = np.zeros([num_word, embedding_dim])\n",
    "for i, word in enumerate(w2v_mdl.wv.vocab):\n",
    "    word2id[word] = i\n",
    "    id2word[i] = word\n",
    "    embedding_matrix[i] = w2v_mdl.wv[word]"
   ]
  },
  {
   "cell_type": "code",
   "execution_count": 4,
   "metadata": {},
   "outputs": [
    {
     "name": "stdout",
     "output_type": "stream",
     "text": [
      "sentences_id =\n",
      "[[137906  50520  69194]\n",
      " [ 96573  72801 143601]]\n",
      "sentences_id.shape = (2, 3)\n"
     ]
    }
   ],
   "source": [
    "# sentences that we would like to get word embedding vector\n",
    "sentences = [['i', 'love', 'you'], ['this', 'is', 'book']]\n",
    "sentences_id = np.array([[word2id[word] for word in _] for _ in sentences])\n",
    "print('sentences_id =\\n{}'.format(sentences_id))\n",
    "print('sentences_id.shape = {}'.format(sentences_id.shape))"
   ]
  },
  {
   "cell_type": "code",
   "execution_count": 5,
   "metadata": {},
   "outputs": [],
   "source": [
    "init_embedding_W = tf.constant_initializer(embedding_matrix)\n",
    "word_embeddings = tf.get_variable('word_embeddings', shape=[embedding_matrix.shape[0], embedding_matrix.shape[1]], \n",
    "                                  initializer=init_embedding_W)"
   ]
  },
  {
   "cell_type": "code",
   "execution_count": 6,
   "metadata": {},
   "outputs": [],
   "source": [
    "sentences_embedding = tf.placeholder(dtype=tf.int32, shape=(None, None), name='sentences_embedding')\n",
    "sentences_vec = tf.nn.embedding_lookup(word_embeddings, sentences_embedding, name='sentences_vec')"
   ]
  },
  {
   "cell_type": "code",
   "execution_count": 7,
   "metadata": {},
   "outputs": [
    {
     "name": "stdout",
     "output_type": "stream",
     "text": [
      "[[[-0.7648241   1.2737452  -0.00834149 ... -2.0427065   3.422097\n",
      "    1.4652218 ]\n",
      "  [-0.46275178 -3.8601515   1.2111667  ... -0.7902877   0.7041314\n",
      "    2.8472075 ]\n",
      "  [-2.4400547   2.5701215   0.51335037 ...  3.9088922  -1.1410389\n",
      "    4.7212996 ]]\n",
      "\n",
      " [[-0.04673473 -2.0771153   0.77557564 ... -2.0575507   2.1996086\n",
      "    1.881781  ]\n",
      "  [ 0.79173267 -4.4370394   2.9122539  ... -2.8365178   6.341412\n",
      "   -1.2510244 ]\n",
      "  [-0.7653138   2.5878239   1.6974652  ... -3.771558   -0.54706377\n",
      "    1.6537478 ]]]\n"
     ]
    }
   ],
   "source": [
    "sess = tf.InteractiveSession()\n",
    "sess.run(tf.global_variables_initializer())\n",
    "print(sess.run(sentences_vec, feed_dict={sentences_embedding: sentences_id}))"
   ]
  },
  {
   "cell_type": "code",
   "execution_count": null,
   "metadata": {},
   "outputs": [],
   "source": []
  }
 ],
 "metadata": {
  "kernelspec": {
   "display_name": "Python 3",
   "language": "python",
   "name": "python3"
  },
  "language_info": {
   "codemirror_mode": {
    "name": "ipython",
    "version": 3
   },
   "file_extension": ".py",
   "mimetype": "text/x-python",
   "name": "python",
   "nbconvert_exporter": "python",
   "pygments_lexer": "ipython3",
   "version": "3.5.2"
  }
 },
 "nbformat": 4,
 "nbformat_minor": 2
}
